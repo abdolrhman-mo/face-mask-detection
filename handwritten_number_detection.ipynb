{
 "cells": [
  {
   "cell_type": "code",
   "execution_count": 17,
   "id": "8d02b0e1",
   "metadata": {},
   "outputs": [],
   "source": [
    "import tensorflow as tf\n",
    "import numpy as np\n",
    "import matplotlib.pyplot as plt\n",
    "from tensorflow.keras import layers, models\n",
    "from sklearn.metrics import confusion_matrix, classification_report\n",
    "import seaborn as sns"
   ]
  },
  {
   "cell_type": "markdown",
   "id": "4ea92b35",
   "metadata": {},
   "source": [
    "# Dense Networks vs CNNs (Beginner-Friendly Guide)\n",
    "\n",
    "## 🧱 What is a Dense Network?\n",
    "A **Dense Network** (also called a **Fully Connected Network**) means:  \n",
    "- Every neuron in one layer is connected to **every neuron** in the next layer.  \n",
    "\n",
    "Imagine this:  \n",
    "- You have 3 inputs: `[2, 5, 7]`  \n",
    "- You have 4 neurons in the next layer.  \n",
    "👉 Each of those 4 neurons looks at **all 3 inputs**, not just one.  \n",
    "\n",
    "It’s called **dense** because it’s “densely connected” — no input is left out.  \n",
    "\n",
    "---\n",
    "\n",
    "## ⚡ Example\n",
    "Let’s say we’re classifying MNIST digits (handwritten 0–9).  \n",
    "\n",
    "- **Input layer**: 784 numbers (28×28 image flattened).  \n",
    "- **Dense hidden layer**: 128 neurons.  \n",
    "  - Each neuron sees all 784 numbers.  \n",
    "- **Dense output layer**: 10 neurons.  \n",
    "  - Each one guesses how likely the image is \"0\", \"1\", ..., \"9\".  \n",
    "\n",
    "---\n",
    "\n",
    "## 🧠 Why use Dense Networks?\n",
    "- They’re **simple and general**: they can approximate almost any function if you make them big enough.  \n",
    "- Great for beginners → you don’t need to know special tricks, just connect everything.  \n",
    "- Work well on **structured data** (like numbers in a table: house prices, stock data, medical data).  \n",
    "\n",
    "---\n",
    "\n",
    "## 👓 Why not always Dense?\n",
    "- Dense layers don’t know **spatial structure** (like “this pixel is next to that pixel”).  \n",
    "- That’s why CNNs are better for **images** (they look at patches, not everything at once).  \n",
    "- RNNs/Transformers are better for **sequences** (like text or speech).  \n",
    "\n",
    "---\n",
    "\n",
    "## 📚 What do beginners use when learning deep learning?\n",
    "Most people **start with Dense Networks** because:\n",
    "- Easier to understand (just layers of connected nodes).  \n",
    "- Works well on MNIST digits → the “Hello World” of deep learning.  \n",
    "- Builds intuition: inputs → weights → activation → outputs.  \n",
    "\n",
    "After Dense, learners usually move to:\n",
    "1. **CNNs** → for images.  \n",
    "2. **RNNs / Transformers** → for text and sequences.  \n",
    "3. **More advanced architectures**.  \n",
    "\n",
    "---\n",
    "\n",
    "## ✅ In short:\n",
    "- **Dense Network** = all neurons connected → simple, good for starters.  \n",
    "- Most beginners first learn **Dense (Fully Connected) Networks**, then move to CNNs when they want to do image stuff.  "
   ]
  },
  {
   "cell_type": "markdown",
   "id": "d49606e0",
   "metadata": {},
   "source": [
    "## 1. Load Dataset"
   ]
  },
  {
   "cell_type": "code",
   "execution_count": 18,
   "id": "85db1d0f",
   "metadata": {},
   "outputs": [
    {
     "name": "stdout",
     "output_type": "stream",
     "text": [
      "Training data shape: (60000, 28, 28)\n",
      "Training labels shape: (60000,)\n",
      "Test data shape: (10000, 28, 28)\n",
      "Test labels shape: (10000,)\n"
     ]
    },
    {
     "data": {
      "image/png": "[encoded data removed]",
      "text/plain": [
       "<Figure size 800x600 with 6 Axes>"
      ]
     },
     "metadata": {},
     "output_type": "display_data"
    }
   ],
   "source": [
    "#Load MNIST dataset\n",
    "(x_train, y_train), (x_test, y_test) = tf.keras.datasets.mnist.load_data()\n",
    "\n",
    "# Print dataset information\n",
    "print (f\"Training data shape: {x_train.shape}\")\n",
    "print (f\"Training labels shape: {y_train.shape}\")\n",
    "print(f\"Test data shape: {x_test.shape}\")\n",
    "print(f\"Test labels shape: {y_test.shape}\")\n",
    "\n",
    "#Display a sample image\n",
    "plt.figure(figsize=(8, 6))\n",
    "plt.subplot(2, 3, 1)\n",
    "plt.imshow(x_train[0], cmap=\"gray\")\n",
    "plt.title(f'Label: {y_train[0]}')\n",
    "plt.axis('off')\n",
    "\n",
    "# Show a few more examples.\n",
    "for i in range(1, 6):\n",
    "    plt.subplot(2, 3, i+1)\n",
    "    plt.imshow(x_train[i], cmap=\"gray\")\n",
    "    plt.title(f'Label: {y_train[i]}')\n",
    "    plt.axis('off')\n",
    "\n",
    "plt.tight_layout()\n",
    "plt.show()"
   ]
  },
  {
   "cell_type": "markdown",
   "id": "768b1b72",
   "metadata": {},
   "source": [
    "## 3. Preprocess"
   ]
  },
  {
   "cell_type": "code",
   "execution_count": 19,
   "id": "16def493",
   "metadata": {},
   "outputs": [],
   "source": [
    "# Normalize pixels\n",
    "x_train, x_test = x_train / 255.0, x_test / 255.0\n",
    "\n",
    "# Flatten images (for Dense model)\n",
    "x_train_dense = x_train.reshape(-1, 28*28)  # flatten images\n",
    "x_test_dense = x_test.reshape(-1, 28*28)\n",
    "\n",
    "# Reshape images → 4D (for CNN model)\n",
    "x_train_cnn = x_train.reshape(-1, 28, 28, 1)\n",
    "x_test_cnn = x_test.reshape(-1, 28, 28, 1)\n",
    "\n",
    "# Note:\n",
    "# Flattening = turning that 2D grid into 1 long line (1D vector).\n",
    "# Why do we flatten?\n",
    "# - In a Dense (Fully Connected) network → each neuron expects a list of numbers, not a grid.\n",
    "# - Downside: it forgets the image shape (which pixels are neighbors). That’s why Dense-only models don’t “see” as well as CNNs.\n",
    "\n",
    "# What does reshape mean?\n",
    "# In NumPy (and TensorFlow), reshape changes the shape of an array (how many dimensions it has) without changing the actual data inside.\n",
    "# Dense model:\n",
    "# - It expects a 1D array of numbers.\n",
    "# CNN model:\n",
    "# - It expects 4D input: (batch_size, height, width, channels)\n",
    "\n",
    "# Reshape function:\n",
    "# - (batch_size, height, width, channels) is the most common input shape for CNNs.\n",
    "# - (batch_size, ...) means \"the batch size is whatever it needs to be\".\n",
    "# - (-1, ...) means \"whatever size we need\".\n",
    "#   (example: instead of (60000, 28, 28) we use (-1, 28, 28))"
   ]
  },
  {
   "cell_type": "markdown",
   "id": "bfd889c0",
   "metadata": {},
   "source": [
    "## 4. Define the model"
   ]
  },
  {
   "cell_type": "code",
   "execution_count": 20,
   "id": "4ae7c832",
   "metadata": {},
   "outputs": [
    {
     "name": "stderr",
     "output_type": "stream",
     "text": [
      "d:\\cs\\nti\\applying labs\\deeplearning\\venv\\Lib\\site-packages\\keras\\src\\layers\\core\\dense.py:92: UserWarning: Do not pass an `input_shape`/`input_dim` argument to a layer. When using Sequential models, prefer using an `Input(shape)` object as the first layer in the model instead.\n",
      "  super().__init__(activity_regularizer=activity_regularizer, **kwargs)\n",
      "d:\\cs\\nti\\applying labs\\deeplearning\\venv\\Lib\\site-packages\\keras\\src\\layers\\convolutional\\base_conv.py:113: UserWarning: Do not pass an `input_shape`/`input_dim` argument to a layer. When using Sequential models, prefer using an `Input(shape)` object as the first layer in the model instead.\n",
      "  super().__init__(activity_regularizer=activity_regularizer, **kwargs)\n"
     ]
    }
   ],
   "source": [
    "dense_model = models.Sequential([\n",
    "    layers.Dense(128, activation='relu', input_shape=(784,)),  # hidden layer\n",
    "    layers.Dense(64, activation='relu'),\n",
    "    layers.Dense(10, activation='softmax')  # output layer: 10 classes\n",
    "])\n",
    "\n",
    "cnn_model = models.Sequential([\n",
    "    layers.Conv2D(32, (3, 3), activation='relu', input_shape=(28, 28, 1)),\n",
    "    layers.MaxPooling2D((2, 2)),\n",
    "    layers.Conv2D(64, (3, 3), activation='relu'),\n",
    "    layers.MaxPooling2D((2, 2)),\n",
    "    layers.Flatten(),\n",
    "    layers.Dense(64, activation='relu'),\n",
    "    layers.Dense(10, activation='softmax')\n",
    "])"
   ]
  },
  {
   "cell_type": "markdown",
   "id": "3d1805c9",
   "metadata": {},
   "source": [
    "## 5. Compile (choose loss + optimizer)"
   ]
  },
  {
   "cell_type": "code",
   "execution_count": 21,
   "id": "6d81db71",
   "metadata": {},
   "outputs": [],
   "source": [
    "dense_model.compile(optimizer='adam',\n",
    "              loss='sparse_categorical_crossentropy',\n",
    "              metrics=['accuracy'])\n",
    "\n",
    "cnn_model.compile(optimizer='adam',\n",
    "                  loss='sparse_categorical_crossentropy',\n",
    "                  metrics=['accuracy'])"
   ]
  },
  {
   "cell_type": "markdown",
   "id": "10733b44",
   "metadata": {},
   "source": [
    "## 6. Train"
   ]
  },
  {
   "cell_type": "code",
   "execution_count": 26,
   "id": "0667e790",
   "metadata": {},
   "outputs": [
    {
     "name": "stdout",
     "output_type": "stream",
     "text": [
      "\n",
      "Training Dense Model...\n",
      "Epoch 1/5\n",
      "\u001b[1m1875/1875\u001b[0m \u001b[32m━━━━━━━━━━━━━━━━━━━━\u001b[0m\u001b[37m\u001b[0m \u001b[1m3s\u001b[0m 2ms/step - accuracy: 0.9895 - loss: 0.0324\n",
      "Epoch 2/5\n",
      "\u001b[1m1875/1875\u001b[0m \u001b[32m━━━━━━━━━━━━━━━━━━━━\u001b[0m\u001b[37m\u001b[0m \u001b[1m3s\u001b[0m 2ms/step - accuracy: 0.9904 - loss: 0.0292\n",
      "Epoch 3/5\n",
      "\u001b[1m1875/1875\u001b[0m \u001b[32m━━━━━━━━━━━━━━━━━━━━\u001b[0m\u001b[37m\u001b[0m \u001b[1m3s\u001b[0m 2ms/step - accuracy: 0.9919 - loss: 0.0241\n",
      "Epoch 4/5\n",
      "\u001b[1m1875/1875\u001b[0m \u001b[32m━━━━━━━━━━━━━━━━━━━━\u001b[0m\u001b[37m\u001b[0m \u001b[1m3s\u001b[0m 2ms/step - accuracy: 0.9930 - loss: 0.0212\n",
      "Epoch 5/5\n",
      "\u001b[1m1875/1875\u001b[0m \u001b[32m━━━━━━━━━━━━━━━━━━━━\u001b[0m\u001b[37m\u001b[0m \u001b[1m3s\u001b[0m 2ms/step - accuracy: 0.9933 - loss: 0.0200\n",
      "\n",
      "Training CNN Model...\n",
      "Epoch 1/5\n",
      "1875/1875 - 10s - 6ms/step - accuracy: 0.9561 - loss: 0.1470\n",
      "Epoch 2/5\n",
      "1875/1875 - 8s - 4ms/step - accuracy: 0.9850 - loss: 0.0487\n",
      "Epoch 3/5\n",
      "1875/1875 - 8s - 4ms/step - accuracy: 0.9898 - loss: 0.0330\n",
      "Epoch 4/5\n",
      "1875/1875 - 8s - 4ms/step - accuracy: 0.9919 - loss: 0.0252\n",
      "Epoch 5/5\n",
      "1875/1875 - 9s - 5ms/step - accuracy: 0.9939 - loss: 0.0198\n"
     ]
    },
    {
     "data": {
      "text/plain": [
       "<keras.src.callbacks.history.History at 0x201eecc7020>"
      ]
     },
     "execution_count": 26,
     "metadata": {},
     "output_type": "execute_result"
    }
   ],
   "source": [
    "# Train the models\n",
    "print(\"\\nTraining Dense Model...\")\n",
    "dense_model.fit(x_train_dense, y_train, epochs=5, batch_size=32)\n",
    "\n",
    "print(\"\\nTraining CNN Model...\")\n",
    "cnn_model.fit(x_train_cnn, y_train, epochs=5, batch_size=32, verbose=2)"
   ]
  },
  {
   "cell_type": "markdown",
   "id": "c145b916",
   "metadata": {},
   "source": [
    "## 7. Evaluate"
   ]
  },
  {
   "cell_type": "code",
   "execution_count": 27,
   "id": "80899875",
   "metadata": {},
   "outputs": [
    {
     "name": "stdout",
     "output_type": "stream",
     "text": [
      "\u001b[1m313/313\u001b[0m \u001b[32m━━━━━━━━━━━━━━━━━━━━\u001b[0m\u001b[37m\u001b[0m \u001b[1m0s\u001b[0m 1ms/step - accuracy: 0.9775 - loss: 0.1022\n",
      "\u001b[1m313/313\u001b[0m \u001b[32m━━━━━━━━━━━━━━━━━━━━\u001b[0m\u001b[37m\u001b[0m \u001b[1m1s\u001b[0m 2ms/step - accuracy: 0.9915 - loss: 0.0270\n",
      "Dense Model Accuracy: 0.9775000214576721\n",
      "CNN Model Accuracy: 0.9915000200271606\n"
     ]
    }
   ],
   "source": [
    "dense_loss, dense_acc = dense_model.evaluate(x_test_dense, y_test)\n",
    "\n",
    "cnn_loss, cnn_acc = cnn_model.evaluate(x_test_cnn, y_test)\n",
    "\n",
    "print(\"Dense Model Accuracy:\", dense_acc)\n",
    "print(\"CNN Model Accuracy:\", cnn_acc)"
   ]
  },
  {
   "cell_type": "markdown",
   "id": "03646803",
   "metadata": {},
   "source": [
    "## 8. Test Predictions"
   ]
  },
  {
   "cell_type": "code",
   "execution_count": 25,
   "id": "5a079197",
   "metadata": {},
   "outputs": [
    {
     "name": "stdout",
     "output_type": "stream",
     "text": [
      "\u001b[1m313/313\u001b[0m \u001b[32m━━━━━━━━━━━━━━━━━━━━\u001b[0m\u001b[37m\u001b[0m \u001b[1m0s\u001b[0m 728us/step\n"
     ]
    },
    {
     "data": {
      "image/png": "[encoded data removed]",
      "text/plain": [
       "<Figure size 1500x300 with 10 Axes>"
      ]
     },
     "metadata": {},
     "output_type": "display_data"
    }
   ],
   "source": [
    "# Make predictions on test set\n",
    "predictions = dense_model.predict(x_test_dense)\n",
    "\n",
    "# Function to display predictions\n",
    "def display_predictions(num_samples=10):\n",
    "    plt.figure(figsize=(15, 3))\n",
    "    for i in range(num_samples):\n",
    "        plt.subplot(1, num_samples, i+1)\n",
    "        \n",
    "        # Reshape back to 28x28 for display\n",
    "        plt.imshow(x_test_dense[i].reshape(28, 28), cmap='gray')\n",
    "\n",
    "        # Get predicted and actual labels\n",
    "        predicted_label = np.argmax(predictions[i])\n",
    "        actual_label = y_test[i]  # no need for argmax\n",
    "\n",
    "        # Color: green if correct, red if wrong\n",
    "        color = 'green' if predicted_label == actual_label else 'red'\n",
    "        plt.title(f'Pred: {predicted_label}\\nActual: {actual_label}', color=color)\n",
    "        plt.axis('off')\n",
    "\n",
    "    plt.tight_layout()\n",
    "    plt.show()\n",
    "\n",
    "# Display sample predictions\n",
    "display_predictions()\n"
   ]
  }
 ],
 "metadata": {
  "kernelspec": {
   "display_name": "venv",
   "language": "python",
   "name": "python3"
  },
  "language_info": {
   "codemirror_mode": {
    "name": "ipython",
    "version": 3
   },
   "file_extension": ".py",
   "mimetype": "text/x-python",
   "name": "python",
   "nbconvert_exporter": "python",
   "pygments_lexer": "ipython3",
   "version": "3.13.5"
  }
 },
 "nbformat": 4,
 "nbformat_minor": 5
}
